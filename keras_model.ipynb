{
  "nbformat": 4,
  "nbformat_minor": 0,
  "metadata": {
    "colab": {
      "provenance": [],
      "authorship_tag": "ABX9TyP9Jmcdvm4iJUl6kMMXiFuC",
      "include_colab_link": true
    },
    "kernelspec": {
      "name": "python3",
      "display_name": "Python 3"
    },
    "language_info": {
      "name": "python"
    }
  },
  "cells": [
    {
      "cell_type": "markdown",
      "metadata": {
        "id": "view-in-github",
        "colab_type": "text"
      },
      "source": [
        "<a href=\"https://colab.research.google.com/github/ingabLee/low-code-book-projects/blob/main/keras_model.ipynb\" target=\"_parent\"><img src=\"https://colab.research.google.com/assets/colab-badge.svg\" alt=\"Open In Colab\"/></a>"
      ]
    },
    {
      "cell_type": "code",
      "execution_count": 1,
      "metadata": {
        "id": "_L4Y8KjX-vTm"
      },
      "outputs": [],
      "source": [
        "import pandas as pd\n",
        "\n",
        "!wget -q https://storage.googleapis.com/low-code-ai-book/car_prices_train.csv\n",
        "!wget -q https://storage.googleapis.com/low-code-ai-book/car_prices_valid.csv\n",
        "!wget -q https://storage.googleapis.com/low-code-ai-book/car_prices_test.csv\n",
        "\n",
        "train_df = pd.read_csv('./car_prices_train.csv')\n",
        "y_train = train_df['sellingprice']\n",
        "X_train = train_df.drop('sellingprice', axis=1)\n",
        "\n",
        "valid_df = pd.read_csv('./car_prices_valid.csv')\n",
        "y_valid = valid_df['sellingprice']\n",
        "X_valid = valid_df.drop('sellingprice', axis=1)"
      ]
    },
    {
      "cell_type": "code",
      "source": [
        "import tensorflow as tf\n",
        "from tensorflow.keras.layers import( StringLookup, HashedCrossing,\n",
        "                                    Discretization, Concatenate)\n",
        "cat_cols = ['make', 'model', 'trim', 'body', 'transmission', 'state',\n",
        "            'color', 'interior']\n",
        "\n",
        "num_cols = ['odometer', 'year', 'condition']\n",
        "\n",
        "inputs = {}\n",
        "\n",
        "for col in cat_cols:\n",
        "  inputs[col] = tf.keras.Input(shape=(1,), name=col, dtype=tf.string)\n",
        "\n",
        "for col in num_cols:\n",
        "  inputs[col] = tf.keras.Input(shape=(1,), name=col, dtype=tf.int64)"
      ],
      "metadata": {
        "id": "_UD86hoG_4HW"
      },
      "execution_count": 2,
      "outputs": []
    },
    {
      "cell_type": "code",
      "source": [
        "preproc_layers = {}\n",
        "for col in cat_cols:\n",
        "  layer = StringLookup(output_mode='one_hot')\n",
        "  layer.adapt(X_train[col])\n",
        "  preproc_layers[col] = layer(inputs[col])\n",
        "\n",
        "for col in num_cols:\n",
        "  layer = Discretization(num_bins=10, output_mode='one_hot')\n",
        "  layer.adapt(X_train[col])\n",
        "  preproc_layers[col] = layer(inputs[col])"
      ],
      "metadata": {
        "id": "Rf2Op59_BeQM"
      },
      "execution_count": 3,
      "outputs": []
    },
    {
      "cell_type": "code",
      "source": [
        "model_trim = tf.keras.layers.HashedCrossing(num_bins=1000, output_mode='one_hot')(\n",
        "    (inputs['model'], inputs['trim']))\n",
        "\n",
        "color_int = tf.keras.layers.HashedCrossing(num_bins=400, output_mode='one_hot')(\n",
        "    (inputs['color'], inputs['interior']))\n",
        "\n",
        "preproc_layers['model_trim'] = model_trim\n",
        "preproc_layers['color_int'] = color_int"
      ],
      "metadata": {
        "id": "URa2KQyODdET"
      },
      "execution_count": 4,
      "outputs": []
    },
    {
      "cell_type": "code",
      "source": [
        "prepared_layer = Concatenate()(preproc_layers.values())\n",
        "prepared_layer = tf.reshape(prepared_layer, [-1, 3903])\n",
        "\n",
        "hid_1 = tf.keras.layers.Dense(16, activation='relu')(prepared_layer)\n",
        "hid_2 = tf.keras.layers.Dense(16, activation='relu')(hid_1)\n",
        "output = tf.keras.layers.Dense(1)(hid_2)\n",
        "\n",
        "model = tf.keras.Model(inputs=inputs, outputs=output)\n",
        "model.compile(optimizer='adam', loss='mse')\n",
        "\n",
        "train_ds = tf.data.Dataset.from_tensor_slices((dict(X_train), y_train)).batch(100)\n",
        "valid_ds = tf.data.Dataset.from_tensor_slices((dict(X_valid), y_valid)).batch(1000)\n",
        "\n",
        "history = model.fit(\n",
        "    x=train_ds, epochs=25, verbose=1, validation_data=valid_ds)"
      ],
      "metadata": {
        "colab": {
          "base_uri": "https://localhost:8080/",
          "height": 479
        },
        "id": "_RQtwHS_FGVZ",
        "outputId": "629f3910-978c-4958-8cfc-ad8171dece16"
      },
      "execution_count": 5,
      "outputs": [
        {
          "output_type": "error",
          "ename": "ValueError",
          "evalue": "Only input tensors may be passed as positional arguments. The following argument value should be passed as a keyword argument: dict_values([<KerasTensor shape=(None, 54), dtype=float32, sparse=False, name=keras_tensor>, <KerasTensor shape=(None, 766), dtype=float32, sparse=False, name=keras_tensor_1>, <KerasTensor shape=(None, 1490), dtype=float32, sparse=False, name=keras_tensor_2>, <KerasTensor shape=(None, 86), dtype=float32, sparse=False, name=keras_tensor_3>, <KerasTensor shape=(None, 3), dtype=float32, sparse=False, name=keras_tensor_4>, <KerasTensor shape=(None, 35), dtype=float32, sparse=False, name=keras_tensor_5>, <KerasTensor shape=(None, 21), dtype=float32, sparse=False, name=keras_tensor_6>, <KerasTensor shape=(None, 18), dtype=float32, sparse=False, name=keras_tensor_7>, <KerasTensor shape=(None, 1), dtype=float32, sparse=False, name=keras_tensor_8>, <KerasTensor shape=(None, 1), dtype=float32, sparse=False, name=keras_tensor_9>, <KerasTensor shape=(None, 1), dtype=float32, sparse=False, name=keras_tensor_10>, <KerasTensor shape=(None, 1000), dtype=float32, sparse=False, name=keras_tensor_11>, <KerasTensor shape=(None, 400), dtype=float32, sparse=False, name=keras_tensor_12>]) (of type <class 'dict_values'>)",
          "traceback": [
            "\u001b[0;31m---------------------------------------------------------------------------\u001b[0m",
            "\u001b[0;31mValueError\u001b[0m                                Traceback (most recent call last)",
            "\u001b[0;32m<ipython-input-5-226b76624326>\u001b[0m in \u001b[0;36m<cell line: 0>\u001b[0;34m()\u001b[0m\n\u001b[0;32m----> 1\u001b[0;31m \u001b[0mprepared_layer\u001b[0m \u001b[0;34m=\u001b[0m \u001b[0mConcatenate\u001b[0m\u001b[0;34m(\u001b[0m\u001b[0;34m)\u001b[0m\u001b[0;34m(\u001b[0m\u001b[0mpreproc_layers\u001b[0m\u001b[0;34m.\u001b[0m\u001b[0mvalues\u001b[0m\u001b[0;34m(\u001b[0m\u001b[0;34m)\u001b[0m\u001b[0;34m)\u001b[0m\u001b[0;34m\u001b[0m\u001b[0;34m\u001b[0m\u001b[0m\n\u001b[0m\u001b[1;32m      2\u001b[0m \u001b[0mprepared_layer\u001b[0m \u001b[0;34m=\u001b[0m \u001b[0mtf\u001b[0m\u001b[0;34m.\u001b[0m\u001b[0mreshape\u001b[0m\u001b[0;34m(\u001b[0m\u001b[0mprepared_layer\u001b[0m\u001b[0;34m,\u001b[0m \u001b[0;34m[\u001b[0m\u001b[0;34m-\u001b[0m\u001b[0;36m1\u001b[0m\u001b[0;34m,\u001b[0m \u001b[0;36m3903\u001b[0m\u001b[0;34m]\u001b[0m\u001b[0;34m)\u001b[0m\u001b[0;34m\u001b[0m\u001b[0;34m\u001b[0m\u001b[0m\n\u001b[1;32m      3\u001b[0m \u001b[0;34m\u001b[0m\u001b[0m\n\u001b[1;32m      4\u001b[0m \u001b[0mhid_1\u001b[0m \u001b[0;34m=\u001b[0m \u001b[0mtf\u001b[0m\u001b[0;34m.\u001b[0m\u001b[0mkeras\u001b[0m\u001b[0;34m.\u001b[0m\u001b[0mlayers\u001b[0m\u001b[0;34m.\u001b[0m\u001b[0mDense\u001b[0m\u001b[0;34m(\u001b[0m\u001b[0;36m16\u001b[0m\u001b[0;34m,\u001b[0m \u001b[0mactivation\u001b[0m\u001b[0;34m=\u001b[0m\u001b[0;34m'relu'\u001b[0m\u001b[0;34m)\u001b[0m\u001b[0;34m(\u001b[0m\u001b[0mprepared_layer\u001b[0m\u001b[0;34m)\u001b[0m\u001b[0;34m\u001b[0m\u001b[0;34m\u001b[0m\u001b[0m\n\u001b[1;32m      5\u001b[0m \u001b[0mhid_2\u001b[0m \u001b[0;34m=\u001b[0m \u001b[0mtf\u001b[0m\u001b[0;34m.\u001b[0m\u001b[0mkeras\u001b[0m\u001b[0;34m.\u001b[0m\u001b[0mlayers\u001b[0m\u001b[0;34m.\u001b[0m\u001b[0mDense\u001b[0m\u001b[0;34m(\u001b[0m\u001b[0;36m16\u001b[0m\u001b[0;34m,\u001b[0m \u001b[0mactivation\u001b[0m\u001b[0;34m=\u001b[0m\u001b[0;34m'relu'\u001b[0m\u001b[0;34m)\u001b[0m\u001b[0;34m(\u001b[0m\u001b[0mhid_1\u001b[0m\u001b[0;34m)\u001b[0m\u001b[0;34m\u001b[0m\u001b[0;34m\u001b[0m\u001b[0m\n",
            "\u001b[0;32m/usr/local/lib/python3.11/dist-packages/keras/src/utils/traceback_utils.py\u001b[0m in \u001b[0;36merror_handler\u001b[0;34m(*args, **kwargs)\u001b[0m\n\u001b[1;32m    120\u001b[0m             \u001b[0;31m# To get the full stack trace, call:\u001b[0m\u001b[0;34m\u001b[0m\u001b[0;34m\u001b[0m\u001b[0m\n\u001b[1;32m    121\u001b[0m             \u001b[0;31m# `keras.config.disable_traceback_filtering()`\u001b[0m\u001b[0;34m\u001b[0m\u001b[0;34m\u001b[0m\u001b[0m\n\u001b[0;32m--> 122\u001b[0;31m             \u001b[0;32mraise\u001b[0m \u001b[0me\u001b[0m\u001b[0;34m.\u001b[0m\u001b[0mwith_traceback\u001b[0m\u001b[0;34m(\u001b[0m\u001b[0mfiltered_tb\u001b[0m\u001b[0;34m)\u001b[0m \u001b[0;32mfrom\u001b[0m \u001b[0;32mNone\u001b[0m\u001b[0;34m\u001b[0m\u001b[0;34m\u001b[0m\u001b[0m\n\u001b[0m\u001b[1;32m    123\u001b[0m         \u001b[0;32mfinally\u001b[0m\u001b[0;34m:\u001b[0m\u001b[0;34m\u001b[0m\u001b[0;34m\u001b[0m\u001b[0m\n\u001b[1;32m    124\u001b[0m             \u001b[0;32mdel\u001b[0m \u001b[0mfiltered_tb\u001b[0m\u001b[0;34m\u001b[0m\u001b[0;34m\u001b[0m\u001b[0m\n",
            "\u001b[0;32m/usr/local/lib/python3.11/dist-packages/keras/src/layers/layer.py\u001b[0m in \u001b[0;36m__call__\u001b[0;34m(self, *args, **kwargs)\u001b[0m\n\u001b[1;32m    809\u001b[0m                     \u001b[0;32mand\u001b[0m \u001b[0marg\u001b[0m \u001b[0;32mis\u001b[0m \u001b[0;32mnot\u001b[0m \u001b[0;32mNone\u001b[0m\u001b[0;34m\u001b[0m\u001b[0;34m\u001b[0m\u001b[0m\n\u001b[1;32m    810\u001b[0m                 ):\n\u001b[0;32m--> 811\u001b[0;31m                     raise ValueError(\n\u001b[0m\u001b[1;32m    812\u001b[0m                         \u001b[0;34m\"Only input tensors may be passed as \"\u001b[0m\u001b[0;34m\u001b[0m\u001b[0;34m\u001b[0m\u001b[0m\n\u001b[1;32m    813\u001b[0m                         \u001b[0;34m\"positional arguments. The following argument value \"\u001b[0m\u001b[0;34m\u001b[0m\u001b[0;34m\u001b[0m\u001b[0m\n",
            "\u001b[0;31mValueError\u001b[0m: Only input tensors may be passed as positional arguments. The following argument value should be passed as a keyword argument: dict_values([<KerasTensor shape=(None, 54), dtype=float32, sparse=False, name=keras_tensor>, <KerasTensor shape=(None, 766), dtype=float32, sparse=False, name=keras_tensor_1>, <KerasTensor shape=(None, 1490), dtype=float32, sparse=False, name=keras_tensor_2>, <KerasTensor shape=(None, 86), dtype=float32, sparse=False, name=keras_tensor_3>, <KerasTensor shape=(None, 3), dtype=float32, sparse=False, name=keras_tensor_4>, <KerasTensor shape=(None, 35), dtype=float32, sparse=False, name=keras_tensor_5>, <KerasTensor shape=(None, 21), dtype=float32, sparse=False, name=keras_tensor_6>, <KerasTensor shape=(None, 18), dtype=float32, sparse=False, name=keras_tensor_7>, <KerasTensor shape=(None, 1), dtype=float32, sparse=False, name=keras_tensor_8>, <KerasTensor shape=(None, 1), dtype=float32, sparse=False, name=keras_tensor_9>, <KerasTensor shape=(None, 1), dtype=float32, sparse=False, name=keras_tensor_10>, <KerasTensor shape=(None, 1000), dtype=float32, sparse=False, name=keras_tensor_11>, <KerasTensor shape=(None, 400), dtype=float32, sparse=False, name=keras_tensor_12>]) (of type <class 'dict_values'>)"
          ]
        }
      ]
    },
    {
      "cell_type": "code",
      "source": [
        "!pip install -q keras-tuner"
      ],
      "metadata": {
        "id": "1kdMZfOHMsVn"
      },
      "execution_count": null,
      "outputs": []
    },
    {
      "cell_type": "code",
      "source": [
        "import keras_tuner as kt\n",
        "from functools import partial\n",
        "\n",
        "def _build_model_fn(hp, prepared_layer):\n",
        "  units_1 = hp.Int('units_1', min_value=8, max_value=64, step=4)\n",
        "  units_2 = hp.Int('units_2', min_value=4, max_value=64, step=4)\n",
        "  units_3 = hp.Int('units_3', min_value=4, max_value=32, step=2)\n",
        "\n",
        "  hid_1 = tf.keras.layers.Dense( units_1,\n",
        "                                activation='relu')(prepared_layer)\n",
        "\n",
        "  hid_2 = tf.keras.layers.Dense(units_2, activation='relu')(hid_1)\n",
        "  hid_3 = tf.keras.layers.Dense(units_3, activation='relu')(hid_2)\n",
        "  output = tf.keras.layers.Dense(1, activation='linear')(hid_3)\n",
        "\n",
        "  model = tf.keras.Model(inputs=inputs, outputs=output)\n",
        "\n",
        "  model.compile(optimizer='adam', loss='mse')\n",
        "\n",
        "  return model\n",
        "\n",
        "build_model = partial(_build_model_fn, prepared_layers=prepared_layer)\n",
        "\n",
        "tuner = kt.BayesianOptimization(\n",
        "    build_model,\n",
        "    objective=kt.Objective(\"val_loss\", direction=\"min\"), max_trials=20)\n",
        "\n",
        "tuner.search(\n",
        "    x=train_ds, epochs=5, verbose=1, validation=valid_ds)\n",
        "\n",
        "best_hps = tuner.get_best_hyperparameter(num_trials=1)[0]\n",
        "print('units_1:', best_hps.get('units_1'))\n",
        "print('units_2:', best_hps.get('units_2'))\n",
        "print('units_3:', best_hps.get('units_3'))\n",
        "\n",
        "best_model = tunner.hypermodel.build(best_hps)\n",
        "\n",
        "early_stopping = tf.keras.callbacks.EarlyStopping(monitor='val_loss',\n",
        "                                                  patience=5)\n",
        "\n",
        "history= best_model.fit(\n",
        "    x=train_ds,\n",
        "    epochs=1000,\n",
        "    verbose=1,\n",
        "    callbacks=[early_stopping],\n",
        "    validation_data=valid_ds\n",
        ")\n",
        "\n",
        "\n",
        "test_df = pd.read_csv('/car_prices_test.csv')\n",
        "y_test = test_df['sellingprice']\n",
        "X_test = test_df.drop('sellingprice', axis=1)\n",
        "test_ds = tf.data.Dataset.from_tensor_slices(\n",
        "    (dict(X_test), y_test)).batch(1000)\n",
        "best_model.evaluate(test_ds)\n",
        "\n"
      ],
      "metadata": {
        "id": "jQGj0IYROnIV"
      },
      "execution_count": null,
      "outputs": []
    }
  ]
}