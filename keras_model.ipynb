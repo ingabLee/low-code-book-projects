{
  "nbformat": 4,
  "nbformat_minor": 0,
  "metadata": {
    "colab": {
      "provenance": [],
      "authorship_tag": "ABX9TyPbU8c02WSAo+f7tBklVSY7",
      "include_colab_link": true
    },
    "kernelspec": {
      "name": "python3",
      "display_name": "Python 3"
    },
    "language_info": {
      "name": "python"
    }
  },
  "cells": [
    {
      "cell_type": "markdown",
      "metadata": {
        "id": "view-in-github",
        "colab_type": "text"
      },
      "source": [
        "<a href=\"https://colab.research.google.com/github/ingabLee/low-code-book-projects/blob/main/keras_model.ipynb\" target=\"_parent\"><img src=\"https://colab.research.google.com/assets/colab-badge.svg\" alt=\"Open In Colab\"/></a>"
      ]
    },
    {
      "cell_type": "code",
      "execution_count": 2,
      "metadata": {
        "id": "_L4Y8KjX-vTm"
      },
      "outputs": [],
      "source": [
        "import pandas as pd\n",
        "\n",
        "!wget -q https://storage.googleapis.com/low-code-ai-book/car_prices_train.csv\n",
        "!wget -q https://storage.googleapis.com/low-code-ai-book/car_prices_valid.csv\n",
        "!wget -q https://storage.googleapis.com/low-code-ai-book/car_prices_test.csv\n",
        "\n",
        "train_df = pd.read_csv('./car_prices_train.csv')\n",
        "y_train = train_df['sellingprice']\n",
        "X_train = train_df.drop('sellingprice', axis=1)\n",
        "\n",
        "valid_df = pd.read_csv('./car_prices_valid.csv')\n",
        "y_valid = valid_df['sellingprice']\n",
        "X_valid = valid_df.drop('sellingprice', axis=1)"
      ]
    },
    {
      "cell_type": "code",
      "source": [
        "import tensorflow as tf\n",
        "from tensorflow.keras.layers import( StringLookup, HashedCrossing,\n",
        "                                    Discretization, Concatenate)\n",
        "cat_cols = ['make', 'model', 'trim', 'body', 'transmission', 'state',\n",
        "            'color', 'interior']\n",
        "\n",
        "num_cols = ['odometer', 'year', 'condition']\n",
        "\n",
        "inputs = {}\n",
        "\n",
        "for col in cat_cols:\n",
        "  inputs[col] = tf.keras.Input(shape=(1,), name=col, dtype=tf.string)\n",
        "\n",
        "for col in num_cols:\n",
        "  inputs[col] = tf.keras.Input(shape=(1,), name=col, dtype=tf.int64)"
      ],
      "metadata": {
        "id": "_UD86hoG_4HW"
      },
      "execution_count": 5,
      "outputs": []
    },
    {
      "cell_type": "code",
      "source": [
        "preproc_layers = {}\n",
        "for col in cat_cols:\n",
        "  layer = StringLookup(output_mode='one_hot')\n",
        "  layer.adapt(X_train[col])\n",
        "  preproc_layers[col] = layer(inputs[col])\n",
        "\n",
        "for col in num_cols:\n",
        "  layer = Discretization(num_bins=10, output_mode='one_hot')\n",
        "  layer.adapt(X_train[col])\n",
        "  preproc_layers[col] = layer(inputs[col])"
      ],
      "metadata": {
        "id": "Rf2Op59_BeQM"
      },
      "execution_count": 9,
      "outputs": []
    },
    {
      "cell_type": "code",
      "source": [
        "model_trim = tf.keras.layers.HashedCrossing(num_bins=1000, output_mode='one_hot')(\n",
        "    (inputs['model'], inputs['trim']))\n",
        "\n",
        "color_int = tf.keras.layers.HashedCrossing(num_bins=400, output_mode='one_hot')(\n",
        "    (inputs['color'], inputs['interior']))\n",
        "\n",
        "preproc_layers['model_trim'] = model_trim\n",
        "preproc_layers['color_int'] = color_int"
      ],
      "metadata": {
        "id": "URa2KQyODdET"
      },
      "execution_count": 11,
      "outputs": []
    },
    {
      "cell_type": "code",
      "source": [
        "prepared_layer = Concatenate()(preproc_layers.values())\n",
        "prepared_layer = tf.reshape(prepared_layer, [-1, 3903])\n",
        "\n",
        "hid_1 = tf.keras.layers.Dense(16, activation='relu')(prepared_layer)\n",
        "hid_2 = tf.keras.layers.Dense(16, activation='relu')(hid_1)\n",
        "output = tf.keras.layers.Dense(1)(hid_2)\n",
        "\n",
        "model = tf.keras.Model(inputs=inputs, outputs=output)\n",
        "model.compile(optimizer='adam', loss='mse')\n",
        "\n",
        "train_ds = tf.data.Dataset.from_tensor_slices((dict(X_train), y_train)).batch(100)\n",
        "valid_ds = tf.data.Dataset.from_tensor_slices((dict(X_valid), y_valid)).batch(1000)\n",
        "\n",
        "history = model.fit(\n",
        "    x=train_ds, epochs=25, verbose=1, validation_data=valid_ds)"
      ],
      "metadata": {
        "colab": {
          "base_uri": "https://localhost:8080/",
          "height": 479
        },
        "id": "_RQtwHS_FGVZ",
        "outputId": "4164db93-f1fc-458d-e046-25ae70adb233"
      },
      "execution_count": 12,
      "outputs": [
        {
          "output_type": "error",
          "ename": "ValueError",
          "evalue": "Only input tensors may be passed as positional arguments. The following argument value should be passed as a keyword argument: dict_values([<KerasTensor shape=(None, 54), dtype=float32, sparse=False, name=keras_tensor_9>, <KerasTensor shape=(None, 766), dtype=float32, sparse=False, name=keras_tensor_10>, <KerasTensor shape=(None, 1490), dtype=float32, sparse=False, name=keras_tensor_11>, <KerasTensor shape=(None, 86), dtype=float32, sparse=False, name=keras_tensor_12>, <KerasTensor shape=(None, 3), dtype=float32, sparse=False, name=keras_tensor_13>, <KerasTensor shape=(None, 35), dtype=float32, sparse=False, name=keras_tensor_14>, <KerasTensor shape=(None, 21), dtype=float32, sparse=False, name=keras_tensor_15>, <KerasTensor shape=(None, 18), dtype=float32, sparse=False, name=keras_tensor_16>, <KerasTensor shape=(None, 1), dtype=float32, sparse=False, name=keras_tensor_17>, <KerasTensor shape=(None, 1), dtype=float32, sparse=False, name=keras_tensor_18>, <KerasTensor shape=(None, 1), dtype=float32, sparse=False, name=keras_tensor_19>, <KerasTensor shape=(None, 1000), dtype=float32, sparse=False, name=keras_tensor_20>, <KerasTensor shape=(None, 400), dtype=float32, sparse=False, name=keras_tensor_21>]) (of type <class 'dict_values'>)",
          "traceback": [
            "\u001b[0;31m---------------------------------------------------------------------------\u001b[0m",
            "\u001b[0;31mValueError\u001b[0m                                Traceback (most recent call last)",
            "\u001b[0;32m<ipython-input-12-3a3f1513e434>\u001b[0m in \u001b[0;36m<cell line: 0>\u001b[0;34m()\u001b[0m\n\u001b[0;32m----> 1\u001b[0;31m \u001b[0mprepared_layer\u001b[0m \u001b[0;34m=\u001b[0m \u001b[0mConcatenate\u001b[0m\u001b[0;34m(\u001b[0m\u001b[0;34m)\u001b[0m\u001b[0;34m(\u001b[0m\u001b[0mpreproc_layers\u001b[0m\u001b[0;34m.\u001b[0m\u001b[0mvalues\u001b[0m\u001b[0;34m(\u001b[0m\u001b[0;34m)\u001b[0m\u001b[0;34m)\u001b[0m\u001b[0;34m\u001b[0m\u001b[0;34m\u001b[0m\u001b[0m\n\u001b[0m\u001b[1;32m      2\u001b[0m \u001b[0mprepared_layer\u001b[0m \u001b[0;34m=\u001b[0m \u001b[0mtf\u001b[0m\u001b[0;34m.\u001b[0m\u001b[0mreshape\u001b[0m\u001b[0;34m(\u001b[0m\u001b[0mprepared_layer\u001b[0m\u001b[0;34m,\u001b[0m \u001b[0;34m[\u001b[0m\u001b[0;34m-\u001b[0m\u001b[0;36m1\u001b[0m\u001b[0;34m,\u001b[0m \u001b[0;36m3903\u001b[0m\u001b[0;34m]\u001b[0m\u001b[0;34m)\u001b[0m\u001b[0;34m\u001b[0m\u001b[0;34m\u001b[0m\u001b[0m\n\u001b[1;32m      3\u001b[0m \u001b[0;34m\u001b[0m\u001b[0m\n\u001b[1;32m      4\u001b[0m \u001b[0mhid_1\u001b[0m \u001b[0;34m=\u001b[0m \u001b[0mtf\u001b[0m\u001b[0;34m.\u001b[0m\u001b[0mkeras\u001b[0m\u001b[0;34m.\u001b[0m\u001b[0mlayers\u001b[0m\u001b[0;34m.\u001b[0m\u001b[0mDense\u001b[0m\u001b[0;34m(\u001b[0m\u001b[0;36m16\u001b[0m\u001b[0;34m,\u001b[0m \u001b[0mactivation\u001b[0m\u001b[0;34m=\u001b[0m\u001b[0;34m'relu'\u001b[0m\u001b[0;34m)\u001b[0m\u001b[0;34m(\u001b[0m\u001b[0mprepared_layer\u001b[0m\u001b[0;34m)\u001b[0m\u001b[0;34m\u001b[0m\u001b[0;34m\u001b[0m\u001b[0m\n\u001b[1;32m      5\u001b[0m \u001b[0mhid_2\u001b[0m \u001b[0;34m=\u001b[0m \u001b[0mtf\u001b[0m\u001b[0;34m.\u001b[0m\u001b[0mkeras\u001b[0m\u001b[0;34m.\u001b[0m\u001b[0mlayers\u001b[0m\u001b[0;34m.\u001b[0m\u001b[0mDense\u001b[0m\u001b[0;34m(\u001b[0m\u001b[0;36m16\u001b[0m\u001b[0;34m,\u001b[0m \u001b[0mactivation\u001b[0m\u001b[0;34m=\u001b[0m\u001b[0;34m'relu'\u001b[0m\u001b[0;34m)\u001b[0m\u001b[0;34m(\u001b[0m\u001b[0mhid_1\u001b[0m\u001b[0;34m)\u001b[0m\u001b[0;34m\u001b[0m\u001b[0;34m\u001b[0m\u001b[0m\n",
            "\u001b[0;32m/usr/local/lib/python3.11/dist-packages/keras/src/utils/traceback_utils.py\u001b[0m in \u001b[0;36merror_handler\u001b[0;34m(*args, **kwargs)\u001b[0m\n\u001b[1;32m    120\u001b[0m             \u001b[0;31m# To get the full stack trace, call:\u001b[0m\u001b[0;34m\u001b[0m\u001b[0;34m\u001b[0m\u001b[0m\n\u001b[1;32m    121\u001b[0m             \u001b[0;31m# `keras.config.disable_traceback_filtering()`\u001b[0m\u001b[0;34m\u001b[0m\u001b[0;34m\u001b[0m\u001b[0m\n\u001b[0;32m--> 122\u001b[0;31m             \u001b[0;32mraise\u001b[0m \u001b[0me\u001b[0m\u001b[0;34m.\u001b[0m\u001b[0mwith_traceback\u001b[0m\u001b[0;34m(\u001b[0m\u001b[0mfiltered_tb\u001b[0m\u001b[0;34m)\u001b[0m \u001b[0;32mfrom\u001b[0m \u001b[0;32mNone\u001b[0m\u001b[0;34m\u001b[0m\u001b[0;34m\u001b[0m\u001b[0m\n\u001b[0m\u001b[1;32m    123\u001b[0m         \u001b[0;32mfinally\u001b[0m\u001b[0;34m:\u001b[0m\u001b[0;34m\u001b[0m\u001b[0;34m\u001b[0m\u001b[0m\n\u001b[1;32m    124\u001b[0m             \u001b[0;32mdel\u001b[0m \u001b[0mfiltered_tb\u001b[0m\u001b[0;34m\u001b[0m\u001b[0;34m\u001b[0m\u001b[0m\n",
            "\u001b[0;32m/usr/local/lib/python3.11/dist-packages/keras/src/layers/layer.py\u001b[0m in \u001b[0;36m__call__\u001b[0;34m(self, *args, **kwargs)\u001b[0m\n\u001b[1;32m    809\u001b[0m                     \u001b[0;32mand\u001b[0m \u001b[0marg\u001b[0m \u001b[0;32mis\u001b[0m \u001b[0;32mnot\u001b[0m \u001b[0;32mNone\u001b[0m\u001b[0;34m\u001b[0m\u001b[0;34m\u001b[0m\u001b[0m\n\u001b[1;32m    810\u001b[0m                 ):\n\u001b[0;32m--> 811\u001b[0;31m                     raise ValueError(\n\u001b[0m\u001b[1;32m    812\u001b[0m                         \u001b[0;34m\"Only input tensors may be passed as \"\u001b[0m\u001b[0;34m\u001b[0m\u001b[0;34m\u001b[0m\u001b[0m\n\u001b[1;32m    813\u001b[0m                         \u001b[0;34m\"positional arguments. The following argument value \"\u001b[0m\u001b[0;34m\u001b[0m\u001b[0;34m\u001b[0m\u001b[0m\n",
            "\u001b[0;31mValueError\u001b[0m: Only input tensors may be passed as positional arguments. The following argument value should be passed as a keyword argument: dict_values([<KerasTensor shape=(None, 54), dtype=float32, sparse=False, name=keras_tensor_9>, <KerasTensor shape=(None, 766), dtype=float32, sparse=False, name=keras_tensor_10>, <KerasTensor shape=(None, 1490), dtype=float32, sparse=False, name=keras_tensor_11>, <KerasTensor shape=(None, 86), dtype=float32, sparse=False, name=keras_tensor_12>, <KerasTensor shape=(None, 3), dtype=float32, sparse=False, name=keras_tensor_13>, <KerasTensor shape=(None, 35), dtype=float32, sparse=False, name=keras_tensor_14>, <KerasTensor shape=(None, 21), dtype=float32, sparse=False, name=keras_tensor_15>, <KerasTensor shape=(None, 18), dtype=float32, sparse=False, name=keras_tensor_16>, <KerasTensor shape=(None, 1), dtype=float32, sparse=False, name=keras_tensor_17>, <KerasTensor shape=(None, 1), dtype=float32, sparse=False, name=keras_tensor_18>, <KerasTensor shape=(None, 1), dtype=float32, sparse=False, name=keras_tensor_19>, <KerasTensor shape=(None, 1000), dtype=float32, sparse=False, name=keras_tensor_20>, <KerasTensor shape=(None, 400), dtype=float32, sparse=False, name=keras_tensor_21>]) (of type <class 'dict_values'>)"
          ]
        }
      ]
    },
    {
      "cell_type": "code",
      "source": [
        "!pip install -q keras-tuner"
      ],
      "metadata": {
        "colab": {
          "base_uri": "https://localhost:8080/"
        },
        "id": "1kdMZfOHMsVn",
        "outputId": "49b8e4c1-33dd-4891-de73-d6add3b17b1f"
      },
      "execution_count": 13,
      "outputs": [
        {
          "output_type": "stream",
          "name": "stdout",
          "text": [
            "\u001b[?25l   \u001b[90m━━━━━━━━━━━━━━━━━━━━━━━━━━━━━━━━━━━━━━━━\u001b[0m \u001b[32m0.0/129.1 kB\u001b[0m \u001b[31m?\u001b[0m eta \u001b[36m-:--:--\u001b[0m\r\u001b[2K   \u001b[91m━━━━━━━━━━━━━━━━━━━━━━━━━━━━━━━━━━━━━━\u001b[0m\u001b[90m╺\u001b[0m\u001b[90m━\u001b[0m \u001b[32m122.9/129.1 kB\u001b[0m \u001b[31m4.1 MB/s\u001b[0m eta \u001b[36m0:00:01\u001b[0m\r\u001b[2K   \u001b[90m━━━━━━━━━━━━━━━━━━━━━━━━━━━━━━━━━━━━━━━━\u001b[0m \u001b[32m129.1/129.1 kB\u001b[0m \u001b[31m2.9 MB/s\u001b[0m eta \u001b[36m0:00:00\u001b[0m\n",
            "\u001b[?25h"
          ]
        }
      ]
    },
    {
      "cell_type": "code",
      "source": [
        "import keras_tuner as kt\n",
        "from functools import partial\n",
        "\n",
        "def _build_model_fn(hp, prepared_layer):\n",
        "  units_1 = hp.Int('units_1', min_value=8, max_value=64, step=4)\n",
        "  units_2 = hp.Int('units_2', min_value=4, max_value=64, step=4)\n",
        "  units_3 = hp.Int('')"
      ],
      "metadata": {
        "id": "jQGj0IYROnIV"
      },
      "execution_count": null,
      "outputs": []
    }
  ]
}